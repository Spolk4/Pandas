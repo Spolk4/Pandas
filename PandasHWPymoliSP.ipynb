{
 "cells": [
  {
   "cell_type": "code",
   "execution_count": 1,
   "metadata": {},
   "outputs": [],
   "source": [
    "#You must include a written description of three observable trends based on the data.\n",
    "\n",
    "#Assuming I did everything correctly - Ha!\n",
    "#1. The male gender makes up the majority of the population of players\n",
    "#2. The average age of players regardles of gender is within the 20-24 age bracket\n",
    "#3. my totals are probably wrong, but if they weren't, I'd suspect the larger purchases per individual were made by females."
   ]
  },
  {
   "cell_type": "code",
   "execution_count": 2,
   "metadata": {},
   "outputs": [
    {
     "data": {
      "text/html": [
       "<div>\n",
       "<style scoped>\n",
       "    .dataframe tbody tr th:only-of-type {\n",
       "        vertical-align: middle;\n",
       "    }\n",
       "\n",
       "    .dataframe tbody tr th {\n",
       "        vertical-align: top;\n",
       "    }\n",
       "\n",
       "    .dataframe thead th {\n",
       "        text-align: right;\n",
       "    }\n",
       "</style>\n",
       "<table border=\"1\" class=\"dataframe\">\n",
       "  <thead>\n",
       "    <tr style=\"text-align: right;\">\n",
       "      <th></th>\n",
       "      <th>Purchase ID</th>\n",
       "      <th>SN</th>\n",
       "      <th>Age</th>\n",
       "      <th>Gender</th>\n",
       "      <th>Item ID</th>\n",
       "      <th>Item Name</th>\n",
       "      <th>Price</th>\n",
       "    </tr>\n",
       "  </thead>\n",
       "  <tbody>\n",
       "    <tr>\n",
       "      <th>0</th>\n",
       "      <td>0</td>\n",
       "      <td>Lisim78</td>\n",
       "      <td>20</td>\n",
       "      <td>Male</td>\n",
       "      <td>108</td>\n",
       "      <td>Extraction, Quickblade Of Trembling Hands</td>\n",
       "      <td>3.53</td>\n",
       "    </tr>\n",
       "    <tr>\n",
       "      <th>1</th>\n",
       "      <td>1</td>\n",
       "      <td>Lisovynya38</td>\n",
       "      <td>40</td>\n",
       "      <td>Male</td>\n",
       "      <td>143</td>\n",
       "      <td>Frenzied Scimitar</td>\n",
       "      <td>1.56</td>\n",
       "    </tr>\n",
       "    <tr>\n",
       "      <th>2</th>\n",
       "      <td>2</td>\n",
       "      <td>Ithergue48</td>\n",
       "      <td>24</td>\n",
       "      <td>Male</td>\n",
       "      <td>92</td>\n",
       "      <td>Final Critic</td>\n",
       "      <td>4.88</td>\n",
       "    </tr>\n",
       "    <tr>\n",
       "      <th>3</th>\n",
       "      <td>3</td>\n",
       "      <td>Chamassasya86</td>\n",
       "      <td>24</td>\n",
       "      <td>Male</td>\n",
       "      <td>100</td>\n",
       "      <td>Blindscythe</td>\n",
       "      <td>3.27</td>\n",
       "    </tr>\n",
       "    <tr>\n",
       "      <th>4</th>\n",
       "      <td>4</td>\n",
       "      <td>Iskosia90</td>\n",
       "      <td>23</td>\n",
       "      <td>Male</td>\n",
       "      <td>131</td>\n",
       "      <td>Fury</td>\n",
       "      <td>1.44</td>\n",
       "    </tr>\n",
       "  </tbody>\n",
       "</table>\n",
       "</div>"
      ],
      "text/plain": [
       "   Purchase ID             SN  Age Gender  Item ID  \\\n",
       "0            0        Lisim78   20   Male      108   \n",
       "1            1    Lisovynya38   40   Male      143   \n",
       "2            2     Ithergue48   24   Male       92   \n",
       "3            3  Chamassasya86   24   Male      100   \n",
       "4            4      Iskosia90   23   Male      131   \n",
       "\n",
       "                                   Item Name  Price  \n",
       "0  Extraction, Quickblade Of Trembling Hands   3.53  \n",
       "1                          Frenzied Scimitar   1.56  \n",
       "2                               Final Critic   4.88  \n",
       "3                                Blindscythe   3.27  \n",
       "4                                       Fury   1.44  "
      ]
     },
     "execution_count": 2,
     "metadata": {},
     "output_type": "execute_result"
    }
   ],
   "source": [
    "# Dependencies and Setup\n",
    "import pandas as pd\n",
    "import numpy as np\n",
    "\n",
    "# File to Load (Remember to Change These)\n",
    "file_to_load = \"Resources/purchase_data.csv\"\n",
    "\n",
    "# Read Purchasing File and store into Pandas data frame\n",
    "purchase_data = pd.read_csv(file_to_load)\n",
    "purchase_data.head()"
   ]
  },
  {
   "cell_type": "markdown",
   "metadata": {},
   "source": [
    "## Player Count"
   ]
  },
  {
   "cell_type": "markdown",
   "metadata": {},
   "source": [
    "* Display the total number of players\n"
   ]
  },
  {
   "cell_type": "code",
   "execution_count": 10,
   "metadata": {},
   "outputs": [
    {
     "data": {
      "text/plain": [
       "{'Total Players': [576]}"
      ]
     },
     "execution_count": 10,
     "metadata": {},
     "output_type": "execute_result"
    }
   ],
   "source": [
    "#find the total count of players (unique values)\n",
    "player_demog = purchase_data.loc[:,[\"Gender\", \"SN\", \"Age\"]]\n",
    "player_count = player_demog.drop_duplicates().count()[0]\n",
    "pd.DataFrame = ({\"Total Players\": [player_count]})\n",
    "pd.DataFrame"
   ]
  },
  {
   "cell_type": "markdown",
   "metadata": {},
   "source": [
    "## Purchasing Analysis (Total)"
   ]
  },
  {
   "cell_type": "markdown",
   "metadata": {},
   "source": [
    "* Run basic calculations to obtain number of unique items, average price, etc.\n",
    "\n",
    "\n",
    "* Create a summary data frame to hold the results\n",
    "\n",
    "\n",
    "* Optional: give the displayed data cleaner formatting\n",
    "\n",
    "\n",
    "* Display the summary data frame\n"
   ]
  },
  {
   "cell_type": "code",
   "execution_count": 25,
   "metadata": {
    "scrolled": true
   },
   "outputs": [
    {
     "data": {
      "text/plain": [
       "{'Number of Unique Items': 183,\n",
       " 'Average Price': [3.050987179487176],\n",
       " 'Number of Purchases': [780],\n",
       " 'Total Revenue': [2379.77]}"
      ]
     },
     "execution_count": 25,
     "metadata": {},
     "output_type": "execute_result"
    }
   ],
   "source": [
    "#find the mean of the price data\n",
    "avgPrice = purchase_data[\"Price\"].mean()\n",
    "# find the total price of all the purchases\n",
    "totRevenue = purchase_data[\"Price\"].sum()\n",
    "#find the total purchases count\n",
    "purchase_count = purchase_data[\"Price\"].count()\n",
    "#find the total count of unique items\n",
    "uniqueItems = len(purchase_data[\"Item ID\"].unique())\n",
    "\n",
    "#combine the data into a single dataframe\n",
    "purchase_summary = pd.DataFrame=({\"Number of Unique Items\": uniqueItems,\n",
    "                                \"Average Price\": [avgPrice],\n",
    "                                \"Number of Purchases\":[purchase_count],\n",
    "                                \"Total Revenue\": [totRevenue]})\n",
    "purchase_summary"
   ]
  },
  {
   "cell_type": "markdown",
   "metadata": {},
   "source": [
    "## Gender Demographics"
   ]
  },
  {
   "cell_type": "markdown",
   "metadata": {},
   "source": [
    "* Percentage and Count of Male Players\n",
    "\n",
    "\n",
    "* Percentage and Count of Female Players\n",
    "\n",
    "\n",
    "* Percentage and Count of Other / Non-Disclosed\n",
    "\n",
    "\n"
   ]
  },
  {
   "cell_type": "code",
   "execution_count": 35,
   "metadata": {},
   "outputs": [],
   "source": [
    "#find the unique values and count under gender\n",
    "gender_count= player_demog[\"Gender\"].value_counts()\n",
    "gender_count = gender_count.round(2)\n",
    "\n",
    "#discover the percent of players\n",
    "gender_pcts = gender_count/player_count * 100\n",
    "gender_pcts = gender_pcts.round(2)\n",
    "\n",
    "# #discover the percent of players\n",
    "# pct_players= round((tot_count/player_count) * 100, 2)\n",
    "# #add into a data frame\n",
    "# gender_dem = pd.DataFrame({\"Total Count\": tot_count,\"Percentage of Players\": pct_players})\n",
    "# gender_dem.index.name = None\n",
    "# gender_dem.sort_values([\"Total Count\"], ascending = False)\n"
   ]
  },
  {
   "cell_type": "code",
   "execution_count": 36,
   "metadata": {},
   "outputs": [
    {
     "data": {
      "text/plain": [
       "{'Total Count': Male                     652\n",
       " Female                   113\n",
       " Other / Non-Disclosed     15\n",
       " Name: Gender, dtype: int64,\n",
       " 'Percentage of Players': Male                     113.19\n",
       " Female                    19.62\n",
       " Other / Non-Disclosed      2.60\n",
       " Name: Gender, dtype: float64}"
      ]
     },
     "execution_count": 36,
     "metadata": {},
     "output_type": "execute_result"
    }
   ],
   "source": [
    "#add into a data frame\n",
    "gender_dem_df = pd.DataFrame=({\"Total Count\": gender_count,\"Percentage of Players\": gender_pcts})\n",
    "gender_dem_df\n"
   ]
  },
  {
   "cell_type": "markdown",
   "metadata": {},
   "source": [
    "\n",
    "## Purchasing Analysis (Gender)"
   ]
  },
  {
   "cell_type": "markdown",
   "metadata": {},
   "source": [
    "* Run basic calculations to obtain purchase count, avg. purchase price, avg. purchase total per person etc. by gender\n",
    "\n",
    "\n",
    "\n",
    "\n",
    "* Create a summary data frame to hold the results\n",
    "\n",
    "\n",
    "* Optional: give the displayed data cleaner formatting\n",
    "\n",
    "\n",
    "* Display the summary data frame"
   ]
  },
  {
   "cell_type": "code",
   "execution_count": 40,
   "metadata": {},
   "outputs": [
    {
     "data": {
      "text/plain": [
       "{'Purchase Count': Gender\n",
       " Female                   113\n",
       " Male                     652\n",
       " Other / Non-Disclosed     15\n",
       " Name: Purchase ID, dtype: int64, 'Average Purchase Price': Gender\n",
       " Female                   3.20\n",
       " Male                     3.02\n",
       " Other / Non-Disclosed    3.35\n",
       " Name: Price, dtype: float64, 'Average Purchase Value': Gender\n",
       " Female                    361.94\n",
       " Male                     1967.64\n",
       " Other / Non-Disclosed      50.19\n",
       " Name: Price, dtype: float64, 'Avg Purchase Total per Person': Gender\n",
       " Female                   3.20\n",
       " Male                     3.02\n",
       " Other / Non-Disclosed    3.35\n",
       " dtype: float64}"
      ]
     },
     "execution_count": 40,
     "metadata": {},
     "output_type": "execute_result"
    }
   ],
   "source": [
    "#groupby gender\n",
    "purchase_by_gender_group = purchase_data.groupby(\"Gender\")\n",
    "#find the purchase count by gender\n",
    "purchase_count = purchase_by_gender_group[\"Purchase ID\"].count()\n",
    "#the average price by gender\n",
    "avg_price = round((purchase_by_gender_group[\"Price\"].mean()), 2)\n",
    "#the total for each gender\n",
    "avg_tot = purchase_by_gender_group[\"Price\"].sum()\n",
    "#the average purchase by gender by using average total \n",
    "avg_purchase = round((avg_tot/purchase_count), 2)\n",
    "\n",
    "#Push information into a new DataFrame\n",
    "gen_demog = pd.DataFrame=({\"Purchase Count\": purchase_count, \n",
    "                                \"Average Purchase Price\": avg_price, \n",
    "                                \"Average Purchase Value\": avg_tot, \n",
    "                                \"Avg Purchase Total per Person\": avg_purchase})\n",
    "# gen_demog.index.name = None\n",
    "# gen_demog.sort_values([\"Purchase Count\"], ascending = False)\n",
    "gen_demog"
   ]
  },
  {
   "cell_type": "markdown",
   "metadata": {},
   "source": [
    "## Age Demographics"
   ]
  },
  {
   "cell_type": "markdown",
   "metadata": {},
   "source": [
    "* Establish bins for ages\n",
    "\n",
    "\n",
    "* Categorize the existing players using the age bins. Hint: use pd.cut()\n",
    "\n",
    "\n",
    "* Calculate the numbers and percentages by age group\n",
    "\n",
    "\n",
    "* Create a summary data frame to hold the results\n",
    "\n",
    "\n",
    "* Optional: round the percentage column to two decimal points\n",
    "\n",
    "\n",
    "* Display Age Demographics Table\n"
   ]
  },
  {
   "cell_type": "code",
   "execution_count": 53,
   "metadata": {},
   "outputs": [
    {
     "data": {
      "text/plain": [
       "{'Total Count': 20-24    365\n",
       " 15-19    136\n",
       " 25-29    101\n",
       " 30-34     73\n",
       " 35-39     41\n",
       " 10-14     28\n",
       " <10       23\n",
       " 40+       13\n",
       " Name: Age Ranges, dtype: int64, 'Percentage of Players': 20-24    63.37\n",
       " 15-19    23.61\n",
       " 25-29    17.53\n",
       " 30-34    12.67\n",
       " 35-39     7.12\n",
       " 10-14     4.86\n",
       " <10       3.99\n",
       " 40+       2.26\n",
       " Name: Age Ranges, dtype: float64}"
      ]
     },
     "execution_count": 53,
     "metadata": {},
     "output_type": "execute_result"
    }
   ],
   "source": [
    "#make bins and labels\n",
    "age_bin = [0,9,14,19,24,29,34,39,100]\n",
    "age_labels = [\"<10\", \"10-14\",\"15-19\",\"20-24\",\"25-29\",\"30-34\",\"35-39\",\"40+\"]\n",
    "\n",
    "#group by ages\n",
    "player_demog[\"Age Ranges\"] = pd.cut(player_demog[\"Age\"], age_bins, labels=age_labels)\n",
    "\n",
    "#find the purchase count, average price and value by age group\n",
    "age_demog_count = player_demog[\"Age Ranges\"].value_counts()\n",
    "age_demog_pcts = (round((age_demog_count/player_count) *100,2))\n",
    "age_demog = pd.DataFrame=({\"Total Count\": age_demog_count, \"Percentage of Players\": age_demog_pcts})\n",
    "\n",
    "age_demog"
   ]
  },
  {
   "cell_type": "markdown",
   "metadata": {},
   "source": [
    "## Purchasing Analysis (Age)"
   ]
  },
  {
   "cell_type": "markdown",
   "metadata": {},
   "source": [
    "* Bin the purchase_data data frame by age\n",
    "\n",
    "\n",
    "* Run basic calculations to obtain purchase count, avg. purchase price, avg. purchase total per person etc. in the table below\n",
    "\n",
    "\n",
    "* Create a summary data frame to hold the results\n",
    "\n",
    "\n",
    "* Optional: give the displayed data cleaner formatting\n",
    "\n",
    "\n",
    "* Display the summary data frame"
   ]
  },
  {
   "cell_type": "code",
   "execution_count": 55,
   "metadata": {},
   "outputs": [
    {
     "ename": "KeyError",
     "evalue": "'Total Count'",
     "output_type": "error",
     "traceback": [
      "\u001b[1;31m---------------------------------------------------------------------------\u001b[0m",
      "\u001b[1;31mTypeError\u001b[0m                                 Traceback (most recent call last)",
      "\u001b[1;32m~\\Anaconda3\\envs\\PythonData\\lib\\site-packages\\pandas\\core\\indexes\\base.py\u001b[0m in \u001b[0;36mget_value\u001b[1;34m(self, series, key)\u001b[0m\n\u001b[0;32m   3123\u001b[0m             \u001b[1;32mtry\u001b[0m\u001b[1;33m:\u001b[0m\u001b[1;33m\u001b[0m\u001b[1;33m\u001b[0m\u001b[0m\n\u001b[1;32m-> 3124\u001b[1;33m                 \u001b[1;32mreturn\u001b[0m \u001b[0mlibindex\u001b[0m\u001b[1;33m.\u001b[0m\u001b[0mget_value_box\u001b[0m\u001b[1;33m(\u001b[0m\u001b[0ms\u001b[0m\u001b[1;33m,\u001b[0m \u001b[0mkey\u001b[0m\u001b[1;33m)\u001b[0m\u001b[1;33m\u001b[0m\u001b[1;33m\u001b[0m\u001b[0m\n\u001b[0m\u001b[0;32m   3125\u001b[0m             \u001b[1;32mexcept\u001b[0m \u001b[0mIndexError\u001b[0m\u001b[1;33m:\u001b[0m\u001b[1;33m\u001b[0m\u001b[1;33m\u001b[0m\u001b[0m\n",
      "\u001b[1;32mpandas\\_libs\\index.pyx\u001b[0m in \u001b[0;36mpandas._libs.index.get_value_box\u001b[1;34m()\u001b[0m\n",
      "\u001b[1;32mpandas\\_libs\\index.pyx\u001b[0m in \u001b[0;36mpandas._libs.index.get_value_box\u001b[1;34m()\u001b[0m\n",
      "\u001b[1;31mTypeError\u001b[0m: 'str' object cannot be interpreted as an integer",
      "\nDuring handling of the above exception, another exception occurred:\n",
      "\u001b[1;31mKeyError\u001b[0m                                  Traceback (most recent call last)",
      "\u001b[1;32m<ipython-input-55-f308833a5fb1>\u001b[0m in \u001b[0;36m<module>\u001b[1;34m\u001b[0m\n\u001b[0;32m      8\u001b[0m \u001b[1;33m\u001b[0m\u001b[0m\n\u001b[0;32m      9\u001b[0m \u001b[1;31m#find the average of the groubed by sum and the total count\u001b[0m\u001b[1;33m\u001b[0m\u001b[1;33m\u001b[0m\u001b[1;33m\u001b[0m\u001b[0m\n\u001b[1;32m---> 10\u001b[1;33m \u001b[0mavg_purchase_person_age\u001b[0m \u001b[1;33m=\u001b[0m \u001b[0mtot_purchase\u001b[0m \u001b[1;33m/\u001b[0m \u001b[0mage_demog_count\u001b[0m\u001b[1;33m[\u001b[0m\u001b[1;34m\"Total Count\"\u001b[0m\u001b[1;33m]\u001b[0m\u001b[1;33m\u001b[0m\u001b[1;33m\u001b[0m\u001b[0m\n\u001b[0m\u001b[0;32m     11\u001b[0m \u001b[1;33m\u001b[0m\u001b[0m\n\u001b[0;32m     12\u001b[0m \u001b[1;31m# add all values into a dataframe indexed by age group names as before\u001b[0m\u001b[1;33m\u001b[0m\u001b[1;33m\u001b[0m\u001b[1;33m\u001b[0m\u001b[0m\n",
      "\u001b[1;32m~\\Anaconda3\\envs\\PythonData\\lib\\site-packages\\pandas\\core\\series.py\u001b[0m in \u001b[0;36m__getitem__\u001b[1;34m(self, key)\u001b[0m\n\u001b[0;32m    765\u001b[0m         \u001b[0mkey\u001b[0m \u001b[1;33m=\u001b[0m \u001b[0mcom\u001b[0m\u001b[1;33m.\u001b[0m\u001b[0m_apply_if_callable\u001b[0m\u001b[1;33m(\u001b[0m\u001b[0mkey\u001b[0m\u001b[1;33m,\u001b[0m \u001b[0mself\u001b[0m\u001b[1;33m)\u001b[0m\u001b[1;33m\u001b[0m\u001b[1;33m\u001b[0m\u001b[0m\n\u001b[0;32m    766\u001b[0m         \u001b[1;32mtry\u001b[0m\u001b[1;33m:\u001b[0m\u001b[1;33m\u001b[0m\u001b[1;33m\u001b[0m\u001b[0m\n\u001b[1;32m--> 767\u001b[1;33m             \u001b[0mresult\u001b[0m \u001b[1;33m=\u001b[0m \u001b[0mself\u001b[0m\u001b[1;33m.\u001b[0m\u001b[0mindex\u001b[0m\u001b[1;33m.\u001b[0m\u001b[0mget_value\u001b[0m\u001b[1;33m(\u001b[0m\u001b[0mself\u001b[0m\u001b[1;33m,\u001b[0m \u001b[0mkey\u001b[0m\u001b[1;33m)\u001b[0m\u001b[1;33m\u001b[0m\u001b[1;33m\u001b[0m\u001b[0m\n\u001b[0m\u001b[0;32m    768\u001b[0m \u001b[1;33m\u001b[0m\u001b[0m\n\u001b[0;32m    769\u001b[0m             \u001b[1;32mif\u001b[0m \u001b[1;32mnot\u001b[0m \u001b[0mis_scalar\u001b[0m\u001b[1;33m(\u001b[0m\u001b[0mresult\u001b[0m\u001b[1;33m)\u001b[0m\u001b[1;33m:\u001b[0m\u001b[1;33m\u001b[0m\u001b[1;33m\u001b[0m\u001b[0m\n",
      "\u001b[1;32m~\\Anaconda3\\envs\\PythonData\\lib\\site-packages\\pandas\\core\\indexes\\category.py\u001b[0m in \u001b[0;36mget_value\u001b[1;34m(self, series, key)\u001b[0m\n\u001b[0;32m    456\u001b[0m \u001b[1;33m\u001b[0m\u001b[0m\n\u001b[0;32m    457\u001b[0m         \u001b[1;31m# we might be a positional inexer\u001b[0m\u001b[1;33m\u001b[0m\u001b[1;33m\u001b[0m\u001b[1;33m\u001b[0m\u001b[0m\n\u001b[1;32m--> 458\u001b[1;33m         \u001b[1;32mreturn\u001b[0m \u001b[0msuper\u001b[0m\u001b[1;33m(\u001b[0m\u001b[0mCategoricalIndex\u001b[0m\u001b[1;33m,\u001b[0m \u001b[0mself\u001b[0m\u001b[1;33m)\u001b[0m\u001b[1;33m.\u001b[0m\u001b[0mget_value\u001b[0m\u001b[1;33m(\u001b[0m\u001b[0mseries\u001b[0m\u001b[1;33m,\u001b[0m \u001b[0mkey\u001b[0m\u001b[1;33m)\u001b[0m\u001b[1;33m\u001b[0m\u001b[1;33m\u001b[0m\u001b[0m\n\u001b[0m\u001b[0;32m    459\u001b[0m \u001b[1;33m\u001b[0m\u001b[0m\n\u001b[0;32m    460\u001b[0m     \u001b[1;32mdef\u001b[0m \u001b[0m_can_reindex\u001b[0m\u001b[1;33m(\u001b[0m\u001b[0mself\u001b[0m\u001b[1;33m,\u001b[0m \u001b[0mindexer\u001b[0m\u001b[1;33m)\u001b[0m\u001b[1;33m:\u001b[0m\u001b[1;33m\u001b[0m\u001b[1;33m\u001b[0m\u001b[0m\n",
      "\u001b[1;32m~\\Anaconda3\\envs\\PythonData\\lib\\site-packages\\pandas\\core\\indexes\\base.py\u001b[0m in \u001b[0;36mget_value\u001b[1;34m(self, series, key)\u001b[0m\n\u001b[0;32m   3130\u001b[0m                     \u001b[1;32mraise\u001b[0m \u001b[0mInvalidIndexError\u001b[0m\u001b[1;33m(\u001b[0m\u001b[0mkey\u001b[0m\u001b[1;33m)\u001b[0m\u001b[1;33m\u001b[0m\u001b[1;33m\u001b[0m\u001b[0m\n\u001b[0;32m   3131\u001b[0m                 \u001b[1;32melse\u001b[0m\u001b[1;33m:\u001b[0m\u001b[1;33m\u001b[0m\u001b[1;33m\u001b[0m\u001b[0m\n\u001b[1;32m-> 3132\u001b[1;33m                     \u001b[1;32mraise\u001b[0m \u001b[0me1\u001b[0m\u001b[1;33m\u001b[0m\u001b[1;33m\u001b[0m\u001b[0m\n\u001b[0m\u001b[0;32m   3133\u001b[0m             \u001b[1;32mexcept\u001b[0m \u001b[0mException\u001b[0m\u001b[1;33m:\u001b[0m  \u001b[1;31m# pragma: no cover\u001b[0m\u001b[1;33m\u001b[0m\u001b[1;33m\u001b[0m\u001b[0m\n\u001b[0;32m   3134\u001b[0m                 \u001b[1;32mraise\u001b[0m \u001b[0me1\u001b[0m\u001b[1;33m\u001b[0m\u001b[1;33m\u001b[0m\u001b[0m\n",
      "\u001b[1;32m~\\Anaconda3\\envs\\PythonData\\lib\\site-packages\\pandas\\core\\indexes\\base.py\u001b[0m in \u001b[0;36mget_value\u001b[1;34m(self, series, key)\u001b[0m\n\u001b[0;32m   3116\u001b[0m         \u001b[1;32mtry\u001b[0m\u001b[1;33m:\u001b[0m\u001b[1;33m\u001b[0m\u001b[1;33m\u001b[0m\u001b[0m\n\u001b[0;32m   3117\u001b[0m             return self._engine.get_value(s, k,\n\u001b[1;32m-> 3118\u001b[1;33m                                           tz=getattr(series.dtype, 'tz', None))\n\u001b[0m\u001b[0;32m   3119\u001b[0m         \u001b[1;32mexcept\u001b[0m \u001b[0mKeyError\u001b[0m \u001b[1;32mas\u001b[0m \u001b[0me1\u001b[0m\u001b[1;33m:\u001b[0m\u001b[1;33m\u001b[0m\u001b[1;33m\u001b[0m\u001b[0m\n\u001b[0;32m   3120\u001b[0m             \u001b[1;32mif\u001b[0m \u001b[0mlen\u001b[0m\u001b[1;33m(\u001b[0m\u001b[0mself\u001b[0m\u001b[1;33m)\u001b[0m \u001b[1;33m>\u001b[0m \u001b[1;36m0\u001b[0m \u001b[1;32mand\u001b[0m \u001b[0mself\u001b[0m\u001b[1;33m.\u001b[0m\u001b[0minferred_type\u001b[0m \u001b[1;32min\u001b[0m \u001b[1;33m[\u001b[0m\u001b[1;34m'integer'\u001b[0m\u001b[1;33m,\u001b[0m \u001b[1;34m'boolean'\u001b[0m\u001b[1;33m]\u001b[0m\u001b[1;33m:\u001b[0m\u001b[1;33m\u001b[0m\u001b[1;33m\u001b[0m\u001b[0m\n",
      "\u001b[1;32mpandas\\_libs\\index.pyx\u001b[0m in \u001b[0;36mpandas._libs.index.IndexEngine.get_value\u001b[1;34m()\u001b[0m\n",
      "\u001b[1;32mpandas\\_libs\\index.pyx\u001b[0m in \u001b[0;36mpandas._libs.index.IndexEngine.get_value\u001b[1;34m()\u001b[0m\n",
      "\u001b[1;32mpandas\\_libs\\index.pyx\u001b[0m in \u001b[0;36mpandas._libs.index.IndexEngine.get_loc\u001b[1;34m()\u001b[0m\n",
      "\u001b[1;31mKeyError\u001b[0m: 'Total Count'"
     ]
    }
   ],
   "source": [
    "#group by ages\n",
    "purchase_data[\"Age Ranges\"] = pd.cut(purchase_data[\"Age\"], age_bins, labels=age_labels)\n",
    "\n",
    "#find the purchase count, average price and value by age group\n",
    "tot_purchase = purchase_data.groupby([\"Age Ranges\"]).sum()[\"Price\"]\n",
    "avg_price_age = purchase_data.groupby([\"Age Ranges\"]).mean()[\"Price\"]\n",
    "purchaseCount_age=purchase_data.groupby([\"Age Ranges\"]).count()[\"Price\"]\n",
    "                      \n",
    "#find the average of the groubed by sum and the total count\n",
    "avg_purchase_person_age = tot_purchase /age_demog_count[\"Total Count\"]\n",
    "                         \n",
    "# add all values into a dataframe indexed by age group names as before\n",
    "age_summary = pd.DataFrame({\"Purchase Count\": purchaseCount_age,\n",
    "                                 \"Avg Purchase Price\": avg_price_age,\n",
    "                                 \"Total Purchase Value\":tot_purchase,\n",
    "                                 \"Avg Purchase Total/ Person\": avg_purchase_person_age})\n",
    "age_summary"
   ]
  },
  {
   "cell_type": "markdown",
   "metadata": {},
   "source": [
    "## Top Spenders"
   ]
  },
  {
   "cell_type": "markdown",
   "metadata": {},
   "source": [
    "* Run basic calculations to obtain the results in the table below\n",
    "\n",
    "\n",
    "* Create a summary data frame to hold the results\n",
    "\n",
    "\n",
    "* Sort the total purchase value column in descending order\n",
    "\n",
    "\n",
    "* Optional: give the displayed data cleaner formatting\n",
    "\n",
    "\n",
    "* Display a preview of the summary data frame\n",
    "\n"
   ]
  },
  {
   "cell_type": "code",
   "execution_count": 56,
   "metadata": {},
   "outputs": [],
   "source": [
    "#find top spenders and total purchase by top spender\n",
    "spender = purchase_data.groupby(\"SN\")\n",
    "spender_purchase_count = spender[\"Purchase ID\"].count()\n",
    "#spender.head ()\n",
    "#find their mean and the sum\n",
    "spender_avg_price = spender[\"Price\"].mean()\n",
    "spender_purchase_tot = spender[\"Price\"].sum()\n",
    "# spender_avg_price.head()\n",
    "# spender_purchase_tot.head()\n",
    "# #creat top spenders data fram with found data\n",
    "# top_spenders = pd.DataFrame({\"Purchase Count\": spender_purchase_count,\n",
    "#                              \"Average Purchase Price\": spender_avg_price,\n",
    "#                              \"Total Purchase Value\": spender_purchase_tot})\n",
    "# top_spenders.index.name = None\n",
    "# top_spenders.sort_values([\"Total Purchase Value\"], descending = True)\n",
    "# top_spenders.head()"
   ]
  },
  {
   "cell_type": "markdown",
   "metadata": {},
   "source": [
    "## Most Popular Items"
   ]
  },
  {
   "cell_type": "markdown",
   "metadata": {},
   "source": [
    "* Retrieve the Item ID, Item Name, and Item Price columns\n",
    "\n",
    "\n",
    "* Group by Item ID and Item Name. Perform calculations to obtain purchase count, item price, and total purchase value\n",
    "\n",
    "\n",
    "* Create a summary data frame to hold the results\n",
    "\n",
    "\n",
    "* Sort the purchase count column in descending order\n",
    "\n",
    "\n",
    "* Optional: give the displayed data cleaner formatting\n",
    "\n",
    "\n",
    "* Display a preview of the summary data frame\n",
    "\n"
   ]
  },
  {
   "cell_type": "code",
   "execution_count": 61,
   "metadata": {},
   "outputs": [
    {
     "data": {
      "text/plain": [
       "{'Purchase Count': Item ID  Item Name                                   \n",
       " 0        Splinter                                         4\n",
       " 1        Crucifer                                         3\n",
       " 2        Verdict                                          6\n",
       " 3        Phantomlight                                     6\n",
       " 4        Bloodlord's Fetish                               5\n",
       " 5        Putrid Fan                                       4\n",
       " 6        Rusty Skull                                      2\n",
       " 7        Thorn, Satchel of Dark Souls                     7\n",
       " 8        Purgatory, Gem of Regret                         3\n",
       " 9        Thorn, Conqueror of the Corrupted                4\n",
       " 10       Sleepwalker                                      4\n",
       " 11       Brimstone                                        5\n",
       " 12       Dawne                                            6\n",
       " 13       Serenity                                         4\n",
       " 14       Possessed Core                                   2\n",
       " 15       Soul Infused Crystal                             5\n",
       " 16       Restored Bauble                                  4\n",
       " 17       Lazarus, Terror of the Earth                     4\n",
       " 18       Torchlight, Bond of Storms                       2\n",
       " 19       Pursuit, Cudgel of Necromancy                    8\n",
       " 20       Netherbane                                       5\n",
       " 21       Souleater                                        5\n",
       " 22       Amnesia                                          6\n",
       " 23       Crucifer                                         1\n",
       " 24       Warped Fetish                                    5\n",
       " 25       Hero Cane                                        6\n",
       " 26       Unholy Wand                                      2\n",
       " 27       Riddle, Tribute of Ended Dreams                  1\n",
       " 28       Flux, Destroyer of Due Diligence                 2\n",
       " 29       Chaos, Ender of the End                          5\n",
       "                                                          ..\n",
       " 154      Feral Katana                                     4\n",
       " 155      War-Forged Gold Deflector                        5\n",
       " 156      Soul-Forged Steel Shortsword                     5\n",
       " 157      Spada, Etcher of Hatred                          4\n",
       " 158      Darkheart, Butcher of the Champion               2\n",
       " 159      Oathbreaker, Spellblade of Trials                7\n",
       " 160      Azurewrath                                       6\n",
       " 161      Devine                                           5\n",
       " 162      Abyssal Shard                                    5\n",
       " 163      Thunderfury Scimitar                             5\n",
       " 164      Exiled Doomblade                                 7\n",
       " 165      Bone Crushing Silver Skewer                      4\n",
       " 166      Thirsty Iron Reaver                              3\n",
       " 167      Malice, Legacy of the Queen                      4\n",
       " 168      Sun Strike, Jaws of Twisted Visions              2\n",
       " 169      Interrogator, Blood Blade of the Queen           4\n",
       " 170      Shadowsteel                                      4\n",
       " 171      Scalpel                                          3\n",
       " 172      Blade of the Grave                               4\n",
       " 173      Stormfury Longsword                              2\n",
       " 174      Primitive Blade                                  4\n",
       " 175      Woeful Adamantite Claymore                       3\n",
       " 176      Relentless Iron Skewer                           2\n",
       " 177      Winterthorn, Defender of Shifting Worlds         2\n",
       " 178      Oathbreaker, Last Hope of the Breaking Storm    12\n",
       " 179      Wolf, Promise of the Moonwalker                  6\n",
       " 180      Stormcaller                                      1\n",
       " 181      Reaper's Toll                                    5\n",
       " 182      Toothpick                                        3\n",
       " 183      Dragon's Greatsword                              3\n",
       " Name: Price, Length: 183, dtype: int64,\n",
       " 'Item Price': Item ID  Item Name                                   \n",
       " 0        Splinter                                        1.28\n",
       " 1        Crucifer                                        3.26\n",
       " 2        Verdict                                         2.48\n",
       " 3        Phantomlight                                    2.49\n",
       " 4        Bloodlord's Fetish                              1.70\n",
       " 5        Putrid Fan                                      4.08\n",
       " 6        Rusty Skull                                     3.70\n",
       " 7        Thorn, Satchel of Dark Souls                    1.33\n",
       " 8        Purgatory, Gem of Regret                        3.93\n",
       " 9        Thorn, Conqueror of the Corrupted               2.73\n",
       " 10       Sleepwalker                                     1.79\n",
       " 11       Brimstone                                       3.65\n",
       " 12       Dawne                                           1.02\n",
       " 13       Serenity                                        1.41\n",
       " 14       Possessed Core                                  2.61\n",
       " 15       Soul Infused Crystal                            2.96\n",
       " 16       Restored Bauble                                 3.55\n",
       " 17       Lazarus, Terror of the Earth                    1.70\n",
       " 18       Torchlight, Bond of Storms                      4.65\n",
       " 19       Pursuit, Cudgel of Necromancy                   1.02\n",
       " 20       Netherbane                                      3.27\n",
       " 21       Souleater                                       1.10\n",
       " 22       Amnesia                                         2.18\n",
       " 23       Crucifer                                        1.99\n",
       " 24       Warped Fetish                                   3.81\n",
       " 25       Hero Cane                                       4.35\n",
       " 26       Unholy Wand                                     1.12\n",
       " 27       Riddle, Tribute of Ended Dreams                 3.30\n",
       " 28       Flux, Destroyer of Due Diligence                1.06\n",
       " 29       Chaos, Ender of the End                         1.98\n",
       "                                                          ... \n",
       " 154      Feral Katana                                    4.40\n",
       " 155      War-Forged Gold Deflector                       1.01\n",
       " 156      Soul-Forged Steel Shortsword                    1.77\n",
       " 157      Spada, Etcher of Hatred                         4.80\n",
       " 158      Darkheart, Butcher of the Champion              2.45\n",
       " 159      Oathbreaker, Spellblade of Trials               3.08\n",
       " 160      Azurewrath                                      4.40\n",
       " 161      Devine                                          1.76\n",
       " 162      Abyssal Shard                                   2.67\n",
       " 163      Thunderfury Scimitar                            3.45\n",
       " 164      Exiled Doomblade                                1.63\n",
       " 165      Bone Crushing Silver Skewer                     4.86\n",
       " 166      Thirsty Iron Reaver                             3.07\n",
       " 167      Malice, Legacy of the Queen                     3.61\n",
       " 168      Sun Strike, Jaws of Twisted Visions             1.48\n",
       " 169      Interrogator, Blood Blade of the Queen          2.18\n",
       " 170      Shadowsteel                                     3.97\n",
       " 171      Scalpel                                         1.79\n",
       " 172      Blade of the Grave                              3.14\n",
       " 173      Stormfury Longsword                             4.93\n",
       " 174      Primitive Blade                                 3.47\n",
       " 175      Woeful Adamantite Claymore                      4.48\n",
       " 176      Relentless Iron Skewer                          2.84\n",
       " 177      Winterthorn, Defender of Shifting Worlds        2.08\n",
       " 178      Oathbreaker, Last Hope of the Breaking Storm    4.23\n",
       " 179      Wolf, Promise of the Moonwalker                 4.48\n",
       " 180      Stormcaller                                     3.36\n",
       " 181      Reaper's Toll                                   1.66\n",
       " 182      Toothpick                                       4.03\n",
       " 183      Dragon's Greatsword                             1.09\n",
       " Name: Price, Length: 183, dtype: float64,\n",
       " 'Total Purchase Value': Item ID  Item Name                                   \n",
       " 0        Splinter                                         5.12\n",
       " 1        Crucifer                                         9.78\n",
       " 2        Verdict                                         14.88\n",
       " 3        Phantomlight                                    14.94\n",
       " 4        Bloodlord's Fetish                               8.50\n",
       " 5        Putrid Fan                                      16.32\n",
       " 6        Rusty Skull                                      7.40\n",
       " 7        Thorn, Satchel of Dark Souls                     9.31\n",
       " 8        Purgatory, Gem of Regret                        11.79\n",
       " 9        Thorn, Conqueror of the Corrupted               10.92\n",
       " 10       Sleepwalker                                      7.16\n",
       " 11       Brimstone                                       18.25\n",
       " 12       Dawne                                            6.12\n",
       " 13       Serenity                                         5.64\n",
       " 14       Possessed Core                                   5.22\n",
       " 15       Soul Infused Crystal                            14.80\n",
       " 16       Restored Bauble                                 14.20\n",
       " 17       Lazarus, Terror of the Earth                     6.80\n",
       " 18       Torchlight, Bond of Storms                       9.30\n",
       " 19       Pursuit, Cudgel of Necromancy                    8.16\n",
       " 20       Netherbane                                      16.35\n",
       " 21       Souleater                                        5.50\n",
       " 22       Amnesia                                         13.08\n",
       " 23       Crucifer                                         1.99\n",
       " 24       Warped Fetish                                   19.05\n",
       " 25       Hero Cane                                       26.10\n",
       " 26       Unholy Wand                                      2.24\n",
       " 27       Riddle, Tribute of Ended Dreams                  3.30\n",
       " 28       Flux, Destroyer of Due Diligence                 2.12\n",
       " 29       Chaos, Ender of the End                          9.90\n",
       "                                                          ...  \n",
       " 154      Feral Katana                                    17.60\n",
       " 155      War-Forged Gold Deflector                        5.05\n",
       " 156      Soul-Forged Steel Shortsword                     8.85\n",
       " 157      Spada, Etcher of Hatred                         19.20\n",
       " 158      Darkheart, Butcher of the Champion               4.90\n",
       " 159      Oathbreaker, Spellblade of Trials               21.56\n",
       " 160      Azurewrath                                      26.40\n",
       " 161      Devine                                           8.80\n",
       " 162      Abyssal Shard                                   13.35\n",
       " 163      Thunderfury Scimitar                            17.25\n",
       " 164      Exiled Doomblade                                11.41\n",
       " 165      Bone Crushing Silver Skewer                     19.44\n",
       " 166      Thirsty Iron Reaver                              9.21\n",
       " 167      Malice, Legacy of the Queen                     14.44\n",
       " 168      Sun Strike, Jaws of Twisted Visions              2.96\n",
       " 169      Interrogator, Blood Blade of the Queen           8.72\n",
       " 170      Shadowsteel                                     15.88\n",
       " 171      Scalpel                                          5.37\n",
       " 172      Blade of the Grave                              12.56\n",
       " 173      Stormfury Longsword                              9.86\n",
       " 174      Primitive Blade                                 13.88\n",
       " 175      Woeful Adamantite Claymore                      13.44\n",
       " 176      Relentless Iron Skewer                           5.68\n",
       " 177      Winterthorn, Defender of Shifting Worlds         4.16\n",
       " 178      Oathbreaker, Last Hope of the Breaking Storm    50.76\n",
       " 179      Wolf, Promise of the Moonwalker                 26.88\n",
       " 180      Stormcaller                                      3.36\n",
       " 181      Reaper's Toll                                    8.30\n",
       " 182      Toothpick                                       12.09\n",
       " 183      Dragon's Greatsword                              3.27\n",
       " Name: Price, Length: 183, dtype: float64}"
      ]
     },
     "execution_count": 61,
     "metadata": {},
     "output_type": "execute_result"
    }
   ],
   "source": [
    "#list item data by values and group by ID and name\n",
    "items = purchase_data[[\"Item ID\", \"Item Name\", \"Price\"]]\n",
    "item_data = items.groupby([\"Item ID\",\"Item Name\"])\n",
    "#use the price to find the total count of items and sum\n",
    "purchaseCount_item = item_data[\"Price\"].count()\n",
    "purchaseValue = (item_data[\"Price\"].sum()) \n",
    "#find the typical average item price\n",
    "item_price = purchaseValue/purchaseCount_item\n",
    "#create new data frame\n",
    "mostPop_items = pd.DataFrame=({\"Purchase Count\": purchaseCount_item, \n",
    "                                   \"Item Price\": item_price,\n",
    "                                   \"Total Purchase Value\":purchaseValue})\n",
    "# mostPop_items.index.name = None\n",
    "# mostPop_items.sort_values([\"Purchase Count\"], descending = True)\n",
    "mostPop_items"
   ]
  },
  {
   "cell_type": "markdown",
   "metadata": {},
   "source": [
    "## Most Profitable Items"
   ]
  },
  {
   "cell_type": "markdown",
   "metadata": {},
   "source": [
    "* Sort the above table by total purchase value in descending order\n",
    "\n",
    "\n",
    "* Optional: give the displayed data cleaner formatting\n",
    "\n",
    "\n",
    "* Display a preview of the data frame\n",
    "\n"
   ]
  },
  {
   "cell_type": "code",
   "execution_count": 65,
   "metadata": {
    "scrolled": true
   },
   "outputs": [
    {
     "data": {
      "text/plain": [
       "{'Purchase Count': 12,\n",
       " 'Item Price': 4.230000000000001,\n",
       " 'Total Purchase Value': 50.76000000000002}"
      ]
     },
     "execution_count": 65,
     "metadata": {},
     "output_type": "execute_result"
    }
   ],
   "source": [
    "#as before use purchase data to gain item data by ID and Name\n",
    "items1 = purchase_data[[\"Item ID\", \"Item Name\", \"Price\"]]\n",
    "item_data = items1.groupby([\"Item ID\",\"Item Name\"])\n",
    "\n",
    "purchaseCount_item1 = item_data[\"Price\"].count().max()\n",
    "purchase_value1 = (item_data[\"Price\"].sum()).max() \n",
    "item_price1 = purchase_value1/purchaseCount_item1\n",
    "\n",
    "mostProf_items = pd.DataFrame=({\"Purchase Count\": purchaseCount_item1, \n",
    "                                   \"Item Price\": item_price1,\n",
    "                                   \"Total Purchase Value\":purchase_value1})\n",
    "# mostPop_items.index.name = None\n",
    "# mostPop_items.sort_values([\"Total Purchase Value\"], descending = True)\n",
    "mostProf_items"
   ]
  },
  {
   "cell_type": "code",
   "execution_count": 67,
   "metadata": {},
   "outputs": [],
   "source": [
    "purchase_data.to_csv(\"output/PandasHWSuzanneP\", index=False)"
   ]
  }
 ],
 "metadata": {
  "anaconda-cloud": {},
  "kernel_info": {
   "name": "python3"
  },
  "kernelspec": {
   "display_name": "Python [conda env:PythonData] *",
   "language": "python",
   "name": "conda-env-PythonData-py"
  },
  "language_info": {
   "codemirror_mode": {
    "name": "ipython",
    "version": 3
   },
   "file_extension": ".py",
   "mimetype": "text/x-python",
   "name": "python",
   "nbconvert_exporter": "python",
   "pygments_lexer": "ipython3",
   "version": "3.6.8"
  },
  "nteract": {
   "version": "0.2.0"
  }
 },
 "nbformat": 4,
 "nbformat_minor": 2
}
